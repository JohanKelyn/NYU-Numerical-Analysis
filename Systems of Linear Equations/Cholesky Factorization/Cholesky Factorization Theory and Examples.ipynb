{
 "cells": [
  {
   "cell_type": "markdown",
   "metadata": {},
   "source": [
    "# Cholesky Facotrization\n",
    "\n",
    "Cholseky Factorization is a variant of Gaussian Elimination that operate on Hermitian matrices (symmetric matrices for real matrices). Cholesky consists on facotring our matrix into a multiplication of two matrices $A = R^*R$, where $R$ is an upper triangular matrix and $R^*$ is its adjoint.\n",
    "\n",
    "<h3 style=\"color: #191970\">Definition 1:</h3><strong>A matrix $A \\in \\mathbb{C}^{nxn}$ is said to be Hermitian if and only if $A^*=A$. For real matrices, $A \\in \\mathbb{R}^{nXn}$, $A$ is called symmetric if and only if $A^T=A$. Such a matrix satisfies $x^TAy = y^TAx$ for all vectors $x, y \\in \\mathbb{R^{n}}$. SImilarly, for Hermiotian matrices, we have that $x^*Ay = \\overline{y^*Ax}$ for all vectors $x, y \\in \\mathbb{C^{n}}$</strong>\n",
    "\n",
    "<h3 style=\"color: #191970\">Definition 2: </h3><strong>A Hermitian matrix is called positive definite if in addition $x^*Ax > 0$ for all $x \\neq 0$</strong>\n",
    "\n",
    "<h3 style=\"color: #4682B4\">Theorem 1: </h3><strong>If $A$ is an $nxn$ hermitian positive definite matrix and $X$ is a matrix of full-rank with $m>n$, then the matrix $X^*AX$ is also hermitian positive definite </strong>\n",
    "\n",
    "<h3 style=\"color: #4682B4\">Proof: </h3> The matrix $X^*AX$ is hermitian because $(X^*AX)^* = X^*A^*X = X^*AX$. Additionally, the matrix is positive definite since $x^*(X^*AX)x = (Xx)^*A(Xx) > 0$\n",
    "\n",
    "<h3 style=\"color: #4682B4\">Theorem 2: </h3><strong>The eigenvalues of a hermitian matrix are positive real numbers</strong>\n",
    "\n",
    "<h3 style=\"color: #4682B4\">Proof: </h3> Let $x$ be an eigenvector of A, then we have $Ax = \\lambda x$. Thus, $x^*Ax = x^* \\lambda x = \\lambda x^*x > 0$. Therefore, $\\lambda > 0$ and real\n",
    "\n",
    "<h3 style=\"color: #4682B4\">Theorem 3: </h3><strong> Eigenvectors that correspond to distinct eigenvalues of a hermitian matrix are orthogonal.</strong>\n",
    "\n",
    "<h3 style=\"color: #4682B4\">Proof: </h3> Let $x_1$ and $x_2$ be two different eigenvectors of the hermitian matrix $A$ with their corresponding eigenvalues $\\lambda_1$ and $\\lambda_2$ with $\\lambda_1 \\neq \\lambda_2$. Then we have, $\\lambda_2x_1^*x^2 = x_1^*Ax_2 = \\overline{x_2^*Ax_1} = \\overline{\\lambda_1 x_2^*x_1} = \\lambda x_1^*x_2$. Therefore, since $\\lambda_1 \\neq \\lambda_2$ then we can conclude that $x_1^*x_2 = 0$\n",
    "\n"
   ]
  },
  {
   "cell_type": "code",
   "execution_count": 1,
   "metadata": {},
   "outputs": [],
   "source": [
    "import numpy as np\n",
    "# Cholesky Factorization Algorithm\n",
    "\n",
    "def cholesky(A):\n",
    "    R = A.copy()\n",
    "    n = A.shape[0]\n",
    "    \n",
    "    for k in range(0,n):\n",
    "        for j in range(k+1,n):\n",
    "            R[j,j:n] = R[j,j:n] - R[k,j:n]*R[k,j]/R[k,k]\n",
    "        val = np.sqrt(R[k,k])\n",
    "        R[k,k:n] = R[k,k:n]/val\n",
    "    \n",
    "    return R\n"
   ]
  },
  {
   "cell_type": "markdown",
   "metadata": {},
   "source": [
    "<h3 style=\"color: #191970\">Operation Count</h3>\n",
    "\n",
    "The arithmetic done in Cholesky factorization is dominated by the inner loop. A single execution of the line: $R[j,j:] = R[j,j:] - R[k,j:]*R[k,j]/R[k,k]$. requires one division, $m — j + 1$ multiplications, and $m — j + 1$ subtractions, for a total of $\\approx 2(m — j)$ flops. This calculation is repeated once for each j from k +1 to m, and that loop is repeated for each k from 1 to m. Then, the total cost is $\\approx \\frac{1}{3}m^3$ flops\n",
    "\n",
    "<h3 style=\"color: red\">Example 1:</h3> <strong>Let $B$ a $nxn$ matrix with $n=4$ that is randomly generated. Then let $A = B^T*B$ and use Cholesky factorization to get the upper-triangular matrix $R$</strong>"
   ]
  },
  {
   "cell_type": "code",
   "execution_count": 2,
   "metadata": {},
   "outputs": [
    {
     "name": "stdout",
     "output_type": "stream",
     "text": [
      "Matrix A: \n",
      "\n",
      "[[ 2.34193979 -0.51697579  1.37522893 -2.63324016]\n",
      " [-0.51697579  1.39939508 -2.45010868  0.71034966]\n",
      " [ 1.37522893 -2.45010868  6.16109439  0.1241454 ]\n",
      " [-2.63324016  0.71034966  0.1241454   4.99007368]]\n",
      "\n",
      " Matrix R: \n",
      "\n",
      "[[ 1.53033976 -0.33781765  0.89864288 -1.72068989]\n",
      " [ 0.          1.13369939 -1.89338661  0.11384873]\n",
      " [ 0.          0.          1.32989568  1.41814942]\n",
      " [ 0.          0.          0.          0.07204629]]\n",
      "\n",
      " Matrix R^T: \n",
      "\n",
      "[[ 1.53033976  0.          0.          0.        ]\n",
      " [-0.33781765  1.13369939  0.          0.        ]\n",
      " [ 0.89864288 -1.89338661  1.32989568  0.        ]\n",
      " [-1.72068989  0.11384873  1.41814942  0.07204629]]\n",
      "\n",
      " Verifying R*R = A: \n",
      "\n",
      "[[ 2.34193979 -0.51697579  1.37522893 -2.63324016]\n",
      " [-0.51697579  1.39939508 -2.45010868  0.71034966]\n",
      " [ 1.37522893 -2.45010868  6.16109439  0.1241454 ]\n",
      " [-2.63324016  0.71034966  0.1241454   4.99007368]]\n"
     ]
    }
   ],
   "source": [
    "B = np.random.randn(4,4) # Random integer matrix \n",
    "A = (B.T).dot(B) # This generates the symmetric matrix A\n",
    "R = np.triu(cholesky(A)) # Please note that the R is just the upper trinagular matrix of the resulting R. \n",
    "RT = R.T\n",
    "print(\"Matrix A: \\n\")\n",
    "print(A)\n",
    "print(\"\\n Matrix R: \\n\")\n",
    "print(R)\n",
    "print(\"\\n Matrix R^T: \\n\")\n",
    "print(RT)\n",
    "print(\"\\n Verifying R*R = A: \\n\")\n",
    "print(RT.dot(R))"
   ]
  },
  {
   "cell_type": "markdown",
   "metadata": {},
   "source": [
    "<h3 style=\"color: #191970\">Solution of Ax = b</h3>\n",
    "\n",
    "If A is hermitian positive definite, the standard way to solve a system of equations $Ax = b$ is by Cholesky factorization. The Algorithm reduces the system to $R^*Rx = b$, and we then solve two triangular systems in succession: first $R^*y = b$ for the unknown $y$, then $Rx = y$ for the unknown x."
   ]
  },
  {
   "cell_type": "markdown",
   "metadata": {},
   "source": [
    "<h3 style=\"color: red\">Example 2:</h3> <strong>Let $B$ a $nxn$ matrix with $n=4$ that is randomly generated. Then let $A = B^T*B$ and use Cholesky factorization to get the upper-triangular matrix $R$. Additionally, use the vector b as a random vector of size n</strong>"
   ]
  },
  {
   "cell_type": "code",
   "execution_count": 3,
   "metadata": {},
   "outputs": [
    {
     "name": "stdout",
     "output_type": "stream",
     "text": [
      "The vector b = \n",
      "\n",
      "[[ 0.69439194]\n",
      " [ 0.62217983]\n",
      " [-0.03284627]\n",
      " [-0.62856255]]\n",
      "\n",
      " The solutopn vector x = \n",
      "\n",
      "[[-214.95665631]\n",
      " [ 304.73338496]\n",
      " [ 172.40885092]\n",
      " [-161.22649424]]\n",
      "\n",
      " Verifying the solution Ax = b \n",
      "\n",
      "[[ 0.69439194]\n",
      " [ 0.62217983]\n",
      " [-0.03284627]\n",
      " [-0.62856255]]\n"
     ]
    }
   ],
   "source": [
    "b = np.random.randn(4,1)\n",
    "y = np.linalg.solve(RT,b)\n",
    "x = np.linalg.solve(R,y)\n",
    "print(\"The vector b = \\n\")\n",
    "print(b)\n",
    "print(\"\\n The solutopn vector x = \\n\")\n",
    "print(x)\n",
    "print(\"\\n Verifying the solution Ax = b \\n\")\n",
    "print(A.dot(x))"
   ]
  },
  {
   "cell_type": "markdown",
   "metadata": {},
   "source": [
    "<h3 style=\"color: #4682B4\">Theorem 4: </h3><strong> The solution of hermitian positive definite systems $Ax = b$ via Cholesky factorization (Algorithm above) is backward stable</strong>"
   ]
  },
  {
   "cell_type": "code",
   "execution_count": null,
   "metadata": {},
   "outputs": [],
   "source": []
  }
 ],
 "metadata": {
  "kernelspec": {
   "display_name": "Python 3",
   "language": "python",
   "name": "python3"
  },
  "language_info": {
   "codemirror_mode": {
    "name": "ipython",
    "version": 3
   },
   "file_extension": ".py",
   "mimetype": "text/x-python",
   "name": "python",
   "nbconvert_exporter": "python",
   "pygments_lexer": "ipython3",
   "version": "3.7.4"
  }
 },
 "nbformat": 4,
 "nbformat_minor": 2
}
