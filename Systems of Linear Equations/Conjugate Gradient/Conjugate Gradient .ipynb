{
 "cells": [
  {
   "cell_type": "markdown",
   "metadata": {},
   "source": [
    "# Conjugate Gradient\n",
    "\n",
    "\n",
    "Conjugate Gradient (CG) is the most popular iterative method for solving large systems of linear equations. CG is very effective to solve system of equations in the form of\n",
    "\n",
    "$$\n",
    "Ax = b\n",
    "$$\n",
    "\n",
    "where $x$ is the solution vector, $b$ is a known vector, and $A$ is a known, square, symmetric, positive-definite (or positive-indefinite) matrix. These systems arise in many important settings, such as finite difference and finite element methods for solving partial differential equations, structural analysis, and circuit analysis.\n",
    "\n",
    "For a detailed explanation of how CG works and the theory behind CG, please refr to this great source: \n",
    "An Introduction to the Conjugate Gradient Method Without the Agonizing Pain - \n",
    "Jonathan Richard Shewchuk\n",
    "\n",
    "Link: https://www.cs.cmu.edu/~quake-papers/painless-conjugate-gradient.pdf"
   ]
  },
  {
   "cell_type": "code",
   "execution_count": 70,
   "metadata": {},
   "outputs": [],
   "source": [
    "# Algorithm - Conjugate Gradient\n",
    "import numpy as np\n",
    "\n",
    "def conjugate_gradient(A,b):\n",
    "    n = A.shape[0]\n",
    "    x = np.zeros(n)\n",
    "    r = b\n",
    "    p = r\n",
    "    r_old = r\n",
    "    for k in range(n):\n",
    "        v = A.dot(p)\n",
    "        a = (r.T).dot(r)/((p.T).dot(v))\n",
    "        x = x + a*p\n",
    "        r = r - a*(v)\n",
    "        betta = (r.T).dot(r)/((r_old.T).dot(r_old))\n",
    "        p = r + betta*p\n",
    "        r_old = r\n",
    "    \n",
    "    return x\n",
    "    \n",
    "        "
   ]
  },
  {
   "cell_type": "markdown",
   "metadata": {},
   "source": [
    "<h3 style=\"color: red\">Example 1:</h3> <strong>Solve the system of linear equations given below</strong>"
   ]
  },
  {
   "cell_type": "code",
   "execution_count": 88,
   "metadata": {},
   "outputs": [
    {
     "name": "stdout",
     "output_type": "stream",
     "text": [
      "Matrix A = \n",
      "\n",
      "[[ 1 -1  0]\n",
      " [-1  2  1]\n",
      " [ 0  1  2]]\n",
      "\n",
      " Vector b = \n",
      "\n",
      "[0 2 3]\n",
      "\n",
      " The solution vector is x = \n",
      "\n",
      "[1. 1. 1.]\n",
      "\n",
      " Verifying the solution Ax = b \n",
      "\n",
      "[-0.  2.  3.]\n"
     ]
    }
   ],
   "source": [
    "A = np.array([[1, -1, 0], [-1, 2, 1], [0, 1, 2]])\n",
    "b = np.array([0,2,3])\n",
    "x = conjugate_gradient(A,b)\n",
    "print(\"Matrix A = \\n\")\n",
    "print(A)\n",
    "print(\"\\n Vector b = \\n\")\n",
    "print(b)\n",
    "print(\"\\n The solution vector is x = \\n\")\n",
    "print(x)\n",
    "print(\"\\n Verifying the solution Ax = b \\n\")\n",
    "print(A.dot(x))"
   ]
  },
  {
   "cell_type": "markdown",
   "metadata": {},
   "source": [
    "<h3 style=\"color: red\">Example 3</h3><strong>Let A be the $100 x 100$ tridiagonal symmetric matrix with $1, 2, ... ,100$ on the diagonal and 1 on the sub- and superdiagonals, and set $b = [1,1,1, ... , 1]$. Write a program that takes 100 steps of the CG iteration to approximately solve $Ax = b$. Additionally, produce a plot with two curves on it: the computed residual norms for CG, and the actual residual norm for CG</strong>"
   ]
  },
  {
   "cell_type": "code",
   "execution_count": 111,
   "metadata": {},
   "outputs": [],
   "source": [
    "n = 100\n",
    "A2 = np.zeros((n,n))\n",
    "b2 = np.ones((n,1))\n",
    "for k in range(n):\n",
    "    A2[k,k] = k+1\n",
    "    if k < n-1:\n",
    "        A2[k+1]\n",
    "A2 = A2 + np.diag(np.ones(n-1), -1) + np.diag(np.ones(n-1), 1)\n"
   ]
  },
  {
   "cell_type": "code",
   "execution_count": 126,
   "metadata": {},
   "outputs": [],
   "source": [
    "import matplotlib.pyplot as plt\n",
    "def conjugate_gradient_with_norm_plot(A,b):\n",
    "    n = A.shape[0]\n",
    "    x = np.zeros(n)\n",
    "    r = b\n",
    "    p = r\n",
    "    r_old = r\n",
    "    for k in range(n):\n",
    "        v = A.dot(p)\n",
    "        res = np.linalg.norm(b-A.dot(x),2)\n",
    "        r_norm = np.linalg.norm(r,2)\n",
    "        a = (r.T).dot(r)/((p.T).dot(v))\n",
    "        x = x + a*p\n",
    "        r = r - a*(v)\n",
    "        betta = (r.T).dot(r)/((r_old.T).dot(r_old))\n",
    "        p = r + betta*p\n",
    "        r_old = r\n",
    "        plt.plot(k+1, res,'k*-')\n",
    "        plt.plot(k+1,r_norm,'bo-')\n",
    "    return x"
   ]
  },
  {
   "cell_type": "code",
   "execution_count": 129,
   "metadata": {},
   "outputs": [
    {
     "name": "stdout",
     "output_type": "stream",
     "text": [
      "\n",
      " The Solution x = \n",
      "\n",
      "[[ 1.45084374  1.45084374  1.45084374 ...  1.45084374  1.45084374\n",
      "   1.45084374]\n",
      " [-0.45084374 -0.45084374 -0.45084374 ... -0.45084374 -0.45084374\n",
      "  -0.45084374]\n",
      " [ 0.45084374  0.45084374  0.45084374 ...  0.45084374  0.45084374\n",
      "   0.45084374]\n",
      " ...\n",
      " [ 0.00999999  0.00999999  0.00999999 ...  0.00999999  0.00999999\n",
      "   0.00999999]\n",
      " [ 0.00989999  0.00989999  0.00989999 ...  0.00989999  0.00989999\n",
      "   0.00989999]\n",
      " [ 0.009901    0.009901    0.009901   ...  0.009901    0.009901\n",
      "   0.009901  ]]\n",
      "\n",
      " Verifying Ax = b \n",
      "\n",
      "[[1. 1. 1. ... 1. 1. 1.]\n",
      " [1. 1. 1. ... 1. 1. 1.]\n",
      " [1. 1. 1. ... 1. 1. 1.]\n",
      " ...\n",
      " [1. 1. 1. ... 1. 1. 1.]\n",
      " [1. 1. 1. ... 1. 1. 1.]\n",
      " [1. 1. 1. ... 1. 1. 1.]]\n"
     ]
    },
    {
     "data": {
      "text/plain": [
       "<matplotlib.legend.Legend at 0x118a11d50>"
      ]
     },
     "execution_count": 129,
     "metadata": {},
     "output_type": "execute_result"
    },
    {
     "data": {
      "image/png": "[encoded data removed]",
      "text/plain": [
       "<Figure size 432x288 with 1 Axes>"
      ]
     },
     "metadata": {
      "needs_background": "light"
     },
     "output_type": "display_data"
    }
   ],
   "source": [
    "x = conjugate_gradient_with_norm_plot(A2,b2) \n",
    "print(\"\\n The Solution x = \\n\")\n",
    "print(x)\n",
    "print(\"\\n Verifying Ax = b \\n\")\n",
    "print(A2@x)\n",
    "\n",
    "plt.title('Residual Norm and Actual Residual Norm per Step k')\n",
    "plt.xlabel('Step k')\n",
    "plt.ylabel('Norm')\n",
    "plt.grid(True)\n",
    "plt.legend(['Actaul Residual Norm','Residual Norm'])"
   ]
  },
  {
   "cell_type": "code",
   "execution_count": null,
   "metadata": {},
   "outputs": [],
   "source": []
  },
  {
   "cell_type": "code",
   "execution_count": null,
   "metadata": {},
   "outputs": [],
   "source": []
  }
 ],
 "metadata": {
  "kernelspec": {
   "display_name": "Python 3",
   "language": "python",
   "name": "python3"
  },
  "language_info": {
   "codemirror_mode": {
    "name": "ipython",
    "version": 3
   },
   "file_extension": ".py",
   "mimetype": "text/x-python",
   "name": "python",
   "nbconvert_exporter": "python",
   "pygments_lexer": "ipython3",
   "version": "3.7.4"
  }
 },
 "nbformat": 4,
 "nbformat_minor": 2
}
