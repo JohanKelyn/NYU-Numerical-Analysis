{
 "cells": [
  {
   "cell_type": "markdown",
   "metadata": {},
   "source": [
    "# LU Factorization\n",
    "\n",
    "<h3 style=\"color: blue\">Introduction</h3>\n",
    "\n",
    "The goal of LU Factorization is to solve the system of equations $Ax = b$, where $A$ is an $nxn$ matrix and $b$ is a vector of dimension $n$. The idea of LU Factorization is to transform the matrix $A$ into an $nxn$ upper-triangular matrix $U$ by introducing zeros below the diagonal. This is done by subtracting multiples of each row from subsequent rows. This \"elimination\" process is equivalent to multiplying A by a sequence of lower-triangular matrices $L_k$ on the left:\n",
    "\n",
    "$$ L_{m-1}L_{m-2}\\dots L_2L_1A = U $$\n",
    "\n",
    "Setting $L = L_{m-1}^{-1}L_{m-2}^{-1}\\dots L_2^{-1}L_1^{-1}$, we get: \n",
    "\n",
    "$$A = LU$$ \n",
    "\n",
    "Thus we obtain an LU factorization of $A$. where the matrix $U$ is upper-triangular and the matrix $L$ is lower-triangular. In practical Gaussian elimination, the matrices $L_k$ are never formed and multiplied explicitly since the elements of the matrix L are just the value of $l_{jk}$, where \n",
    "\n",
    "$$l_{jk} = \\frac{a_{jk}}{a_{kk}}$$\n"
   ]
  },
  {
   "cell_type": "code",
   "execution_count": 1,
   "metadata": {},
   "outputs": [],
   "source": [
    "# TAlgorithm - Gaussian Elimination without Pivoting\n",
    "import numpy as np \n",
    "def LU_factorization(A):\n",
    "    # Input: Matrix A\n",
    "    # Output: Lower-Triangular Matrix L, and Upper-Triangular Matrix U\n",
    "    \n",
    "    n = A.shape[0] # Gets the dimesion of the matrix A\n",
    "    U = A.copy() # Copy the matrix A into the matrix U\n",
    "    L = np.identity(n) # Initializes the matrix L\n",
    "    \n",
    "    for k in range(n-1): # Loop to iterate every column\n",
    "        for j in range(k+1,n): # Loop to iterate every row after row k\n",
    "            L[j,k] = U[j,k]/U[k,k] # Store the value of the multiplier into L\n",
    "            U[j,k:] = U[j,k:] - L[j,k]*U[k,k:] # Modify the value of U\n",
    "            \n",
    "    return [L,U]"
   ]
  },
  {
   "cell_type": "markdown",
   "metadata": {},
   "source": [
    "<h3 style=\"color: blue\">Operational Count</h3>\n",
    "\n",
    "The asymptotic operation count of this algorithm can be derived geometrically. The work is dominated by the vector operation in the inner loop $U_{j,k:n} = U_{j,k:n}-L_{j,k}U_{k,k:n}$ which executes one scalar-vector multiplication and one vector subtraction. . If $l = m - k + 1$ denotes the length of the row vectors being manipulated, the number of flops is $2l$: two flops per entry. For each value of $k$, the inner loop is repeated for rows $k+1, \\dots , m$. Therefore, the work of LU Factorization is around $\\frac{2}{3}n^2$ flops"
   ]
  },
  {
   "cell_type": "markdown",
   "metadata": {},
   "source": [
    "<h3 style=\"color:red\">Example 1:</h3> \n",
    "\n",
    "<strong>Use LU factorization to decompose the matrix $A$ into a lower-triangular matrix $L$ and an upper-triangular matrix $U$</strong>"
   ]
  },
  {
   "cell_type": "code",
   "execution_count": 2,
   "metadata": {},
   "outputs": [
    {
     "name": "stdout",
     "output_type": "stream",
     "text": [
      "A = \n",
      "[[2 1 1 0]\n",
      " [4 3 3 1]\n",
      " [8 7 9 5]\n",
      " [6 7 9 8]]\n",
      "\n",
      " L = \n",
      "[[1. 0. 0. 0.]\n",
      " [2. 1. 0. 0.]\n",
      " [4. 3. 1. 0.]\n",
      " [3. 4. 1. 1.]]\n",
      "\n",
      " U = \n",
      "[[2 1 1 0]\n",
      " [0 1 1 1]\n",
      " [0 0 2 2]\n",
      " [0 0 0 2]]\n",
      "\n",
      " Multiplying LU, we get \n",
      "\n",
      "[[2. 1. 1. 0.]\n",
      " [4. 3. 3. 1.]\n",
      " [8. 7. 9. 5.]\n",
      " [6. 7. 9. 8.]]\n"
     ]
    }
   ],
   "source": [
    "A = np.matrix('2 1 1 0; 4 3 3 1; 8 7 9 5; 6 7 9 8')\n",
    "[L,U] = LU_factorization(A)\n",
    "\n",
    "print(\"A = \")\n",
    "print(A)\n",
    "\n",
    "print(\"\\n L = \")\n",
    "print(L)\n",
    "\n",
    "print(\"\\n U = \")\n",
    "print(U)\n",
    "\n",
    "# For verification purposes, we can see that if we multiply LU, we will get the matrix A as expected.\n",
    "\n",
    "print(\"\\n Multiplying LU, we get \\n\")\n",
    "print(L.dot(U))"
   ]
  },
  {
   "cell_type": "markdown",
   "metadata": {},
   "source": [
    "<h3 style=\"color:blue\">Solution of Ax = b by LU Factorization</h3>\n",
    "\n",
    "If $A$ is factored into $L$ and $U$, the system $Ax = b$ is reduced to the form $LUx = b$. Then, we can solve the system by solving two triangular systems: first $Ly = b$ for the unknown $y$ (forward substitution), then $Rx = y$ for the unknown $x$ (back substitution)"
   ]
  },
  {
   "cell_type": "code",
   "execution_count": 3,
   "metadata": {},
   "outputs": [],
   "source": [
    "def backward_forward_substitution(L,U,b):\n",
    "    n = b.size\n",
    "    \n",
    "    # Backward Substitution\n",
    "    y = np.zeros(n)\n",
    "    y[0] = b[0]/L[0,0]\n",
    "    for l in range(1,n):\n",
    "        s = 0\n",
    "        for m in range(0,l):\n",
    "            s = s + L[l,m]*y[m]\n",
    "        y[l] = (b[l] - s)/L[l,l]\n",
    "\n",
    "    # Forward Substitution\n",
    "    x = np.zeros(n)\n",
    "    for l in range(n-1,-1,-1):\n",
    "        t = 0\n",
    "        for m in range(l+1,n):\n",
    "            t = t + U[l,m]*x[m]\n",
    "        x[l] = (y[l] - t)/U[l,l]\n",
    "    return x.T"
   ]
  },
  {
   "cell_type": "markdown",
   "metadata": {},
   "source": [
    "<h3 style=\"color:red\">Example 2:</h3> \n",
    "\n",
    "<strong>Use LU factorization to decompose the matrix $A$ into a lower-triangular matrix $L$ and an upper-triangular matrix $U$ using the same matrix as example one. Then, solve the system using b = [1, 2, 2, 4]</strong>"
   ]
  },
  {
   "cell_type": "code",
   "execution_count": 4,
   "metadata": {},
   "outputs": [
    {
     "name": "stdout",
     "output_type": "stream",
     "text": [
      "\n",
      " x = \n",
      "[ 1.25  1.   -2.5   1.5 ]\n",
      "\n",
      " b = \n",
      "[[1. 2. 2. 4.]]\n"
     ]
    }
   ],
   "source": [
    "# Let's define the vector b\n",
    "b = np.array([1,2,2,4])\n",
    "\n",
    "# Since the matrix L and U were already calculated in example 1, \n",
    "# we are going to use them in the call of the function backward_forward_substitution\n",
    "x = backward_forward_substitution(L,U,b)\n",
    "\n",
    "# The solution vector x is:\n",
    "print(\"\\n x = \")\n",
    "print(x)\n",
    "\n",
    "# Verifyng our solution, we should get that Ax = b\n",
    "print(\"\\n b = \")\n",
    "print(A.dot(x))"
   ]
  },
  {
   "cell_type": "markdown",
   "metadata": {},
   "source": [
    "<h3 style=\"color:blue\">Instability of LU Factorization</h3>\n",
    "\n",
    "Unfortunately, LU Factorization is unstable for solving general linear systems, since it is not backward stable. The instability is because LU Factorization fails entirely when it attempts division by zero."
   ]
  },
  {
   "cell_type": "markdown",
   "metadata": {},
   "source": [
    "<h3 style=\"color:red\">Example 3:</h3> \n",
    "\n",
    "<strong>Use LU factorization to decompose the matrix $A$ into a lower-triangular matrix $L$ and an upper-triangular matrix $U$</strong>"
   ]
  },
  {
   "cell_type": "code",
   "execution_count": 5,
   "metadata": {},
   "outputs": [
    {
     "name": "stdout",
     "output_type": "stream",
     "text": [
      "A = \n",
      "[[0 1]\n",
      " [1 1]]\n",
      "\n",
      " L = \n",
      "[[ 1.  0.]\n",
      " [inf  1.]]\n",
      "\n",
      " U = \n",
      "[[ 1.  0.]\n",
      " [inf  1.]]\n"
     ]
    },
    {
     "name": "stderr",
     "output_type": "stream",
     "text": [
      "/Library/Frameworks/Python.framework/Versions/3.7/lib/python3.7/site-packages/ipykernel_launcher.py:13: RuntimeWarning: divide by zero encountered in long_scalars\n",
      "  del sys.path[0]\n",
      "/Library/Frameworks/Python.framework/Versions/3.7/lib/python3.7/site-packages/ipykernel_launcher.py:14: RuntimeWarning: invalid value encountered in multiply\n",
      "  \n"
     ]
    }
   ],
   "source": [
    "A = np.matrix('0 1; 1 1')\n",
    "print(\"A = \")\n",
    "print(A)\n",
    "\n",
    "[L,U] = LU_factorization(A)\n",
    "print(\"\\n L = \")\n",
    "print(L)\n",
    "\n",
    "print(\"\\n U = \")\n",
    "print(L)"
   ]
  },
  {
   "cell_type": "markdown",
   "metadata": {},
   "source": [
    "We can see that LU Factorization fails at the first step since it tries to have division by zero. Additionally, LU Factorization has problems related to floating point arithmetic."
   ]
  },
  {
   "cell_type": "markdown",
   "metadata": {},
   "source": [
    "<h3 style=\"color:red\">Example 4:</h3> \n",
    "\n",
    "<strong>Use LU factorization to decompose the matrix $A$ into a lower-triangular matrix $L$ and an upper-triangular matrix $U$</strong>"
   ]
  },
  {
   "cell_type": "code",
   "execution_count": 6,
   "metadata": {},
   "outputs": [
    {
     "name": "stdout",
     "output_type": "stream",
     "text": [
      "A = \n",
      "[[1.e-20 1.e+00]\n",
      " [1.e+00 1.e+00]]\n",
      "\n",
      " L = \n",
      "[[1.e+00 0.e+00]\n",
      " [1.e+20 1.e+00]]\n",
      "\n",
      " U = \n",
      "[[1.e+00 0.e+00]\n",
      " [1.e+20 1.e+00]]\n",
      "\n",
      " LU = \n",
      "[[1.e-20 1.e+00]\n",
      " [1.e+00 0.e+00]]\n"
     ]
    }
   ],
   "source": [
    "A = np.matrix([[10**-20,1],[1,1]])\n",
    "print(\"A = \")\n",
    "print(A)\n",
    "\n",
    "[L,U] = LU_factorization(A)\n",
    "print(\"\\n L = \")\n",
    "print(L)\n",
    "\n",
    "print(\"\\n U = \")\n",
    "print(L)\n",
    "\n",
    "#Now calculating LU = A, we get\n",
    "print(\"\\n LU = \")\n",
    "print(L.dot(U))"
   ]
  },
  {
   "cell_type": "markdown",
   "metadata": {},
   "source": [
    "Note that the element $a_{2,2} = 1$ for the matrix $A$, but $a_{2,2}=0$ for the matrix $LU$. "
   ]
  }
 ],
 "metadata": {
  "kernelspec": {
   "display_name": "Python 3",
   "language": "python",
   "name": "python3"
  },
  "language_info": {
   "codemirror_mode": {
    "name": "ipython",
    "version": 3
   },
   "file_extension": ".py",
   "mimetype": "text/x-python",
   "name": "python",
   "nbconvert_exporter": "python",
   "pygments_lexer": "ipython3",
   "version": "3.7.4"
  }
 },
 "nbformat": 4,
 "nbformat_minor": 2
}
